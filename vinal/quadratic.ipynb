{
 "cells": [
  {
   "cell_type": "code",
   "execution_count": 1,
   "metadata": {},
   "outputs": [],
   "source": [
    "from vinal import VinAl\n",
    "import forms\n",
    "from sympy import *"
   ]
  },
  {
   "cell_type": "code",
   "execution_count": 9,
   "metadata": {},
   "outputs": [
    {
     "data": {
      "text/latex": [
       "$\\displaystyle \\left( \\left[\\begin{matrix}- 4 \\sqrt{2} - 2 & 0\\\\0 & 1 + 2 \\sqrt{2}\\end{matrix}\\right], \\  \\left[\\begin{matrix}- \\sqrt{2} - 1 & 1\\\\\\sqrt{2} & 1\\end{matrix}\\right]\\right)$"
      ],
      "text/plain": [
       "⎛⎡-4⋅√2 - 2     0    ⎤  ⎡-√2 - 1  1⎤⎞\n",
       "⎜⎢                   ⎥, ⎢          ⎥⎟\n",
       "⎝⎣    0      1 + 2⋅√2⎦  ⎣  √2     1⎦⎠"
      ]
     },
     "execution_count": 9,
     "metadata": {},
     "output_type": "execute_result"
    }
   ],
   "source": [
    "  A = [[0, sqrt(2)],[sqrt(2),1]]\n",
    "  forms.rational_diagonal_form(Matrix(A))\n"
   ]
  },
  {
   "cell_type": "code",
   "execution_count": 10,
   "metadata": {},
   "outputs": [
    {
     "name": "stdout",
     "output_type": "stream",
     "text": [
      "2\n"
     ]
    },
    {
     "data": {
      "text/latex": [
       "$\\displaystyle \\left[\\begin{matrix}0 & \\sqrt{2}\\\\\\sqrt{2} & 1\\end{matrix}\\right]$"
      ],
      "text/plain": [
       "⎡0   √2⎤\n",
       "⎢      ⎥\n",
       "⎣√2  1 ⎦"
      ]
     },
     "execution_count": 10,
     "metadata": {},
     "output_type": "execute_result"
    }
   ],
   "source": [
    "V = VinAl(A)\n",
    "print(V.En)\n",
    "V.Q"
   ]
  },
  {
   "cell_type": "code",
   "execution_count": null,
   "metadata": {},
   "outputs": [],
   "source": []
  }
 ],
 "metadata": {
  "kernelspec": {
   "display_name": "Python 3",
   "language": "python",
   "name": "python3"
  },
  "language_info": {
   "codemirror_mode": {
    "name": "ipython",
    "version": 3
   },
   "file_extension": ".py",
   "mimetype": "text/x-python",
   "name": "python",
   "nbconvert_exporter": "python",
   "pygments_lexer": "ipython3",
   "version": "3.6.6"
  }
 },
 "nbformat": 4,
 "nbformat_minor": 4
}
