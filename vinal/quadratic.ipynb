{
 "cells": [
  {
   "cell_type": "code",
   "execution_count": 5,
   "metadata": {},
   "outputs": [],
   "source": [
    "from vinal import VinAl\n",
    "import forms\n",
    "from sympy import *"
   ]
  },
  {
   "cell_type": "code",
   "execution_count": 9,
   "metadata": {},
   "outputs": [
    {
     "data": {
      "text/latex": [
       "$\\displaystyle \\left( \\left[\\begin{matrix}\\left(1 + 2 \\sqrt{2}\\right) \\left(\\left(1 + \\sqrt{2}\\right) \\left(- \\sqrt{2} - 1\\right) + 1 + 2 \\sqrt{2}\\right) + \\left(- \\sqrt{2} - 1\\right) \\left(\\left(1 + 2 \\sqrt{2}\\right) \\left(- \\sqrt{2} - 1\\right) + \\left(1 + \\sqrt{2}\\right) \\left(1 + 2 \\sqrt{2}\\right)\\right) & \\left(1 + 2 \\sqrt{2}\\right) \\left(- \\sqrt{2} - 1\\right) + \\left(1 + \\sqrt{2}\\right) \\left(1 + 2 \\sqrt{2}\\right)\\\\\\left(1 + 2 \\sqrt{2}\\right) \\left(- \\sqrt{2} - 1\\right) + \\left(1 + \\sqrt{2}\\right) \\left(1 + 2 \\sqrt{2}\\right) & 1 + 2 \\sqrt{2}\\end{matrix}\\right], \\  \\left[\\begin{matrix}- \\sqrt{2} - 1 & 1\\\\\\sqrt{2} & 1\\end{matrix}\\right]\\right)$"
      ],
      "text/plain": [
       "⎛⎡(1 + 2⋅√2)⋅((1 + √2)⋅(-√2 - 1) + 1 + 2⋅√2) + (-√2 - 1)⋅((1 + 2⋅√2)⋅(-√2 - 1)\n",
       "⎜⎢                                                                            \n",
       "⎝⎣                            (1 + 2⋅√2)⋅(-√2 - 1) + (1 + √2)⋅(1 + 2⋅√2)      \n",
       "\n",
       " + (1 + √2)⋅(1 + 2⋅√2))  (1 + 2⋅√2)⋅(-√2 - 1) + (1 + √2)⋅(1 + 2⋅√2)⎤  ⎡-√2 - 1\n",
       "                                                                   ⎥, ⎢       \n",
       "                                          1 + 2⋅√2                 ⎦  ⎣  √2   \n",
       "\n",
       "  1⎤⎞\n",
       "   ⎥⎟\n",
       "  1⎦⎠"
      ]
     },
     "execution_count": 9,
     "metadata": {},
     "output_type": "execute_result"
    }
   ],
   "source": [
    "  A = [[0, sqrt(2)],[sqrt(2),1]]\n",
    "  forms.rational_diagonal_form(Matrix(A))\n"
   ]
  },
  {
   "cell_type": "code",
   "execution_count": null,
   "metadata": {},
   "outputs": [],
   "source": []
  }
 ],
 "metadata": {
  "kernelspec": {
   "display_name": "Python 3",
   "language": "python",
   "name": "python3"
  },
  "language_info": {
   "codemirror_mode": {
    "name": "ipython",
    "version": 3
   },
   "file_extension": ".py",
   "mimetype": "text/x-python",
   "name": "python",
   "nbconvert_exporter": "python",
   "pygments_lexer": "ipython3",
   "version": "3.6.6"
  }
 },
 "nbformat": 4,
 "nbformat_minor": 4
}
