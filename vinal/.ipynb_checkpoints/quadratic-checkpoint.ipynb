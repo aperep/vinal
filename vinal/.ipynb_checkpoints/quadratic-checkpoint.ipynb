{
 "cells": [
  {
   "cell_type": "code",
   "execution_count": 12,
   "metadata": {},
   "outputs": [],
   "source": [
    "from vinal import VinAl\n",
    "import forms\n",
    "from sympy import *"
   ]
  },
  {
   "cell_type": "code",
   "execution_count": 14,
   "metadata": {},
   "outputs": [
    {
     "data": {
      "text/latex": [
       "$\\displaystyle \\left( \\left[\\begin{matrix}-2 & 0 & 0\\\\0 & 2 & 0\\\\0 & 0 & \\sqrt{2} + 10\\end{matrix}\\right], \\  \\left[\\begin{matrix}-1 & 1 & 0\\\\1 & 1 & 0\\\\0 & 0 & 1\\end{matrix}\\right]\\right)$"
      ],
      "text/plain": [
       "⎛⎡-2  0     0   ⎤  ⎡-1  1  0⎤⎞\n",
       "⎜⎢              ⎥  ⎢        ⎥⎟\n",
       "⎜⎢0   2     0   ⎥, ⎢1   1  0⎥⎟\n",
       "⎜⎢              ⎥  ⎢        ⎥⎟\n",
       "⎝⎣0   0  √2 + 10⎦  ⎣0   0  1⎦⎠"
      ]
     },
     "execution_count": 14,
     "metadata": {},
     "output_type": "execute_result"
    }
   ],
   "source": [
    "  A = [[1, sqrt(2)],[sqrt(2),1]]\n",
    "  forms.rational_diagonal_form(Matrix(A))\n"
   ]
  },
  {
   "cell_type": "code",
   "execution_count": null,
   "metadata": {},
   "outputs": [],
   "source": []
  }
 ],
 "metadata": {
  "kernelspec": {
   "display_name": "Python 3",
   "language": "python",
   "name": "python3"
  },
  "language_info": {
   "codemirror_mode": {
    "name": "ipython",
    "version": 3
   },
   "file_extension": ".py",
   "mimetype": "text/x-python",
   "name": "python",
   "nbconvert_exporter": "python",
   "pygments_lexer": "ipython3",
   "version": "3.6.6"
  }
 },
 "nbformat": 4,
 "nbformat_minor": 4
}
