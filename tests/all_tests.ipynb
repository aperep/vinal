{
 "cells": [
  {
   "cell_type": "code",
   "execution_count": 2,
   "metadata": {},
   "outputs": [],
   "source": [
    "%load_ext autoreload\n",
    "%autoreload\n",
    "import sys\n",
    "sys.path.insert(0, '../src/sage')\n"
   ]
  },
  {
   "cell_type": "code",
   "execution_count": 1,
   "metadata": {},
   "outputs": [
    {
     "name": "stderr",
     "output_type": "stream",
     "text": [
      "/workspaces/vinberg-algorithm/tests/../src/sage/vinal.py:61: DeprecationWarning: adjoint is deprecated. Please use adjugate instead.\n",
      "See http://trac.sagemath.org/10501 for details.\n",
      "  s.En=abs(s.M.det()/GCD_list(s.M.adjoint().list()))\n"
     ]
    },
    {
     "data": {
      "text/plain": [
       "[(0, 0, -1, 0, 0, 0),\n",
       " (0, 0, 0, -1, 0, 0),\n",
       " (0, 0, 0, 0, 1, -1),\n",
       " (0, 0, 1, 0, -1, 0),\n",
       " (1, 1, 0, 0, 0, 0),\n",
       " (-1, 0, 1, 2, 1, 1)]"
      ]
     },
     "execution_count": 1,
     "metadata": {},
     "output_type": "execute_result"
    }
   ],
   "source": [
    "from test_U import *\n",
    "\n",
    "test_U_D4()"
   ]
  },
  {
   "cell_type": "code",
   "execution_count": null,
   "metadata": {},
   "outputs": [],
   "source": []
  }
 ],
 "metadata": {
  "kernelspec": {
   "display_name": "SageMath 9.7",
   "language": "sage",
   "name": "sagemath"
  },
  "language_info": {
   "codemirror_mode": {
    "name": "ipython",
    "version": 3
   },
   "file_extension": ".py",
   "mimetype": "text/x-python",
   "name": "python",
   "nbconvert_exporter": "python",
   "pygments_lexer": "ipython3",
   "version": "3.10.5"
  },
  "orig_nbformat": 4
 },
 "nbformat": 4,
 "nbformat_minor": 2
}
